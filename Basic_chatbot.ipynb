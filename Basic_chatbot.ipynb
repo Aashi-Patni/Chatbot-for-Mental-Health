{
  "nbformat": 4,
  "nbformat_minor": 0,
  "metadata": {
    "colab": {
      "name": "Basic_chatbot.ipynb",
      "provenance": []
    },
    "kernelspec": {
      "display_name": "Python 3",
      "name": "python3"
    },
    "language_info": {
      "name": "python"
    }
  },
  "cells": [
    {
      "cell_type": "code",
      "metadata": {
        "colab": {
          "background_save": true,
          "base_uri": "https://localhost:8080/"
        },
        "id": "aE3YnnDrrWTL",
        "outputId": "bbaef9db-d964-4482-dc82-c6fb03f34fce"
      },
      "source": [
        "\n",
        "#0 Import libraries\n",
        "import random\n",
        "from textblob import TextBlob\n",
        "\n",
        "#1. Name and nickname conversation\n",
        "print('Hello human what is your name?')\n",
        "name = input()\n",
        "print(\" \")\n",
        "print('Do you have nickname? Type yes or no')\n",
        "ans = input()\n",
        "if 'y' in ans.lower():\n",
        "  nickname = input('What is your nickname: ')\n",
        "  print('Good to meet you ' + nickname)\n",
        "  print(\" \")\n",
        "else:\n",
        "  nickname = name + name[-1]\n",
        "  print('I will call you '+nickname)\n",
        "  print(\" \")\n",
        "\n",
        "#2. Greeting selection\n",
        "greetings = [\n",
        "\t'How are you today ' + nickname +'?',\n",
        "\t'That is a nice nickname' + nickname + ' how are you feeling?',\n",
        "\t\"What's up \" + nickname +'?',\n",
        "\t'Greetings ' + nickname +', are you well?',\n",
        "\t'How are things going ' + nickname +'?'\n",
        "]\n",
        "print(random.choice(greetings))\n",
        "ans = input()\n",
        "print(\" \")\n",
        "blob = TextBlob(ans)\n",
        "\n",
        "if blob.polarity > 0:\n",
        "  print('Glad you are doing well')\n",
        "  print(\" \")\n",
        "else:\n",
        "  print('Sorry to hear that, I hope you feel better soon. You should take take care of yourself.')\n",
        "  print(\" \")\n",
        "\n",
        "#3. Several random opinions on topic\n",
        "topics = [\n",
        "\t'Mental health',\n",
        "\t'Covid19',\n",
        "\t'Meditation',\n",
        "\t'Depression',\n",
        "\t'Anxiety',\n",
        "\t]\n",
        "\n",
        "questions = [\n",
        "\t'What is your take on ',\n",
        "\t'What do you think about ',\n",
        "\t'How do you feel about ',\n",
        "\t'What do you reckon about ',\n",
        "\t'I would like your opinion on '\n",
        "]\n",
        "for i in range(0, random.randint(3,4)):\n",
        "  question = random.choice(questions)\n",
        "  questions.remove(question)\n",
        "  topic = random.choice(topics)\n",
        "  topics.remove(topic)\n",
        "  print(question + topic + '?')\n",
        "  ans = input()\n",
        "  blob = TextBlob(ans)\n",
        "  print(\" \")\n",
        "\n",
        "\n",
        "  if blob.polarity > 0.5:\n",
        "    print('Yes you are correct regarding '+ topic)\n",
        "  elif blob.polarity > 0.1:\n",
        "    print('Well, you have a clear approach regarding '+ topic)\n",
        "  elif blob.polarity < -0.5:\n",
        "    print('Wow, you totally dislike '+ topic)\n",
        "  elif blob.polarity < -0.5:\n",
        "    print(\"So you don't like \"+ topic)\n",
        "  else:\n",
        "    print('That is a very neutral view on '+ topic)\n",
        "\n",
        "  if blob.subjectivity > 0.6:\n",
        "    print('and you are very biased on this topic')\n",
        "  elif blob.subjectivity > 0.3:\n",
        "    print('and you are a bit biased on this topic')\n",
        "  else:\n",
        "    print('and you are quite objective')\n",
        "\n",
        "#4. Random goodbye\n",
        "\n",
        "goodbyes = [\n",
        "\t'Good talking to you ' + nickname + ' I gotta go now',\n",
        "\t'OK Take care, byee',\n",
        "\t'Bye bye, I need to take rest! Take care!',\n",
        "\t'Catch ya later, '+ nickname\n",
        "]\n",
        "print(random.choice(goodbyes))\n",
        "\n"
      ],
      "execution_count": null,
      "outputs": [
        {
          "output_type": "stream",
          "text": [
            "Hello human what is your name?\n"
          ],
          "name": "stdout"
        }
      ]
    },
    {
      "cell_type": "code",
      "metadata": {
        "id": "qvOO18R_bYNH"
      },
      "source": [
        ""
      ],
      "execution_count": null,
      "outputs": []
    },
    {
      "cell_type": "code",
      "metadata": {
        "id": "QNSKk8PkraUX"
      },
      "source": [
        ""
      ],
      "execution_count": null,
      "outputs": []
    }
  ]
}